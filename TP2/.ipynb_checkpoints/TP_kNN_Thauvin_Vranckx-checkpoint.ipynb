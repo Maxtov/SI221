{
 "cells": [
  {
   "cell_type": "markdown",
   "metadata": {
    "colab_type": "text",
    "id": "kIFBL45k8p4b"
   },
   "source": [
    "# SI221 Practical assignement 2 \n",
    "## k-Nearest Neighbors \n",
    "\n",
    "### 1- k-NN classification: Synthetic dataset\n",
    "\n",
    "---\n",
    "#### Question 1\n",
    "\n"
   ]
  },
  {
   "cell_type": "code",
   "execution_count": 34,
   "metadata": {
    "colab": {},
    "colab_type": "code",
    "id": "L03pI45f9fnx"
   },
   "outputs": [],
   "source": [
    "import numpy as np\n",
    "import matplotlib.mlab as mlab\n",
    "import matplotlib.pyplot as plt\n",
    "import random, math\n",
    "from sklearn.datasets import make_blobs\n",
    "from sklearn.model_selection import train_test_split"
   ]
  },
  {
   "cell_type": "code",
   "execution_count": 35,
   "metadata": {
    "colab": {
     "base_uri": "https://localhost:8080/",
     "height": 282
    },
    "colab_type": "code",
    "id": "T7dLOh8H-5kn",
    "outputId": "9bb4e0a0-bdcb-4694-faba-5ee0a57d5fea"
   },
   "outputs": [
    {
     "data": {
      "text/plain": [
       "<matplotlib.collections.PathCollection at 0x7f2c010f0ef0>"
      ]
     },
     "execution_count": 35,
     "metadata": {},
     "output_type": "execute_result"
    },
    {
     "data": {
      "image/png": "[encoded data removed]",
      "text/plain": [
       "<matplotlib.figure.Figure at 0x7f2c01131518>"
      ]
     },
     "metadata": {
      "needs_background": "light"
     },
     "output_type": "display_data"
    }
   ],
   "source": [
    "def generate_dataset(sigma):\n",
    "  x,y = make_blobs(n_samples=300, centers=[[-1,0],[1,0],[0,1]], cluster_std=sigma)\n",
    "\n",
    "  '''\n",
    "  x_train = x[:200]\n",
    "  x_test = x[200:]\n",
    "  y_train = y[:200]\n",
    "  y_test = y[200:]\n",
    "  '''\n",
    "  X_train, X_test, y_train, y_test = train_test_split(x, y, test_size = 1/3, random_state = 0)\n",
    "\n",
    "  return X_train,y_train, X_test,y_test\n",
    "\n",
    "X_train,y_train,X_test,y_test = generate_dataset(0.10)\n",
    "plt.scatter(X_train[:,0], X_train[:,1],c=y_train)\n"
   ]
  },
  {
   "cell_type": "code",
   "execution_count": 36,
   "metadata": {
    "colab": {},
    "colab_type": "code",
    "id": "9TxPo_IGFzQL"
   },
   "outputs": [],
   "source": [
    "def distance(x1,x2):\n",
    "  a = x1[0] - x2[0] \n",
    "  b = x1[1] - x2[1]\n",
    "  return np.sqrt(a**2 + b**2)"
   ]
  },
  {
   "cell_type": "code",
   "execution_count": 37,
   "metadata": {
    "colab": {},
    "colab_type": "code",
    "id": "zBOQDNeZGOjX"
   },
   "outputs": [],
   "source": [
    "def sort_distance(x,X_train):\n",
    "  dist = []\n",
    "  for i in range(len(X_train)) :\n",
    "    dist.append([i,distance(x,X_train[i])])\n",
    "  # Tri \n",
    "  for i in range(1, len(dist)): \n",
    "        k = dist[i] \n",
    "        j = i-1\n",
    "        while j >= 0 and k[1] < dist[j][1] : \n",
    "                dist[j + 1] = dist[j] \n",
    "                j -= 1\n",
    "        dist[j + 1] = k\n",
    "  return dist\n"
   ]
  },
  {
   "cell_type": "code",
   "execution_count": 38,
   "metadata": {
    "colab": {
     "base_uri": "https://localhost:8080/",
     "height": 34
    },
    "colab_type": "code",
    "id": "AVn4bvU1KuSt",
    "outputId": "8faea044-72f7-4d96-e569-69b1d1134a22"
   },
   "outputs": [
    {
     "name": "stdout",
     "output_type": "stream",
     "text": [
      "0\n"
     ]
    }
   ],
   "source": [
    "def kNN(X_train,labels,x,k):\n",
    "  dist = sort_distance(x,X_train)[:k]\n",
    "  ret = [0,0,0]\n",
    "\n",
    "  for i in range(k):\n",
    "    ri = dist[i][0]\n",
    "    y_i = labels[ri]\n",
    "    ret[y_i] += 1\n",
    "\n",
    "    '''\n",
    "    label = 0 \n",
    "    for i in range(1,3):\n",
    "      if ret[i] > ret[label] :\n",
    "        label = i\n",
    "    '''\n",
    "    \n",
    "    label = np.argmax(ret)\n",
    "  \n",
    "  return label\n",
    "\n",
    "print(kNN(X_train,y_train,X_test[50],5))"
   ]
  },
  {
   "cell_type": "code",
   "execution_count": 39,
   "metadata": {
    "colab": {},
    "colab_type": "code",
    "id": "VFgG46EJNq_M"
   },
   "outputs": [],
   "source": [
    "def predict(X_train, X_test, y_train, y_test, k):\n",
    "  y_predict = np.zeros(len(X_test), dtype=int)\n",
    "  error = 0\n",
    "  for i in range(len(X_test)):\n",
    "    y_predict[i] = kNN(X_train, y_train, X_test[i], k)\n",
    "    if(y_predict[i] != y_test[i]):\n",
    "      error += 1\n",
    "  return error/len(X_test)"
   ]
  },
  {
   "cell_type": "code",
   "execution_count": 40,
   "metadata": {
    "colab": {
     "base_uri": "https://localhost:8080/",
     "height": 34
    },
    "colab_type": "code",
    "id": "OCQZFOcV_y8R",
    "outputId": "3ba984ec-4900-49fc-9d30-fe2d03e5d855"
   },
   "outputs": [
    {
     "name": "stdout",
     "output_type": "stream",
     "text": [
      "[0 0 0 0]\n"
     ]
    }
   ],
   "source": [
    "def predict_some_K(X_train, X_test, y_train, y_test, K):\n",
    "  errors = np.zeros(len(K), dtype=int)\n",
    "  for k in range(len(K)):\n",
    "    errors[k] = predict(X_train, X_test,y_train,y_test,K[k])\n",
    "  return errors\n",
    "\n",
    "K = [1,2,5,10]\n",
    "print(predict_some_K(X_train, X_test, y_train, y_test, K))"
   ]
  },
  {
   "cell_type": "code",
   "execution_count": 43,
   "metadata": {},
   "outputs": [
    {
     "ename": "TypeError",
     "evalue": "Input z must be a 2D array.",
     "output_type": "error",
     "traceback": [
      "\u001b[0;31m---------------------------------------------------------------------------\u001b[0m",
      "\u001b[0;31mTypeError\u001b[0m                                 Traceback (most recent call last)",
      "\u001b[0;32m<ipython-input-43-19f6989d6ace>\u001b[0m in \u001b[0;36m<module>\u001b[0;34m\u001b[0m\n\u001b[1;32m      4\u001b[0m     \u001b[0mZ\u001b[0m\u001b[0;34m.\u001b[0m\u001b[0mappend\u001b[0m\u001b[0;34m(\u001b[0m\u001b[0mkNN\u001b[0m\u001b[0;34m(\u001b[0m\u001b[0mX_train\u001b[0m\u001b[0;34m,\u001b[0m \u001b[0my_train\u001b[0m\u001b[0;34m,\u001b[0m \u001b[0mX_test\u001b[0m\u001b[0;34m[\u001b[0m\u001b[0mi\u001b[0m\u001b[0;34m]\u001b[0m\u001b[0;34m,\u001b[0m \u001b[0mk\u001b[0m\u001b[0;34m)\u001b[0m\u001b[0;34m)\u001b[0m\u001b[0;34m\u001b[0m\u001b[0;34m\u001b[0m\u001b[0m\n\u001b[1;32m      5\u001b[0m \u001b[0;34m\u001b[0m\u001b[0m\n\u001b[0;32m----> 6\u001b[0;31m \u001b[0mplt\u001b[0m\u001b[0;34m.\u001b[0m\u001b[0mcontour\u001b[0m\u001b[0;34m(\u001b[0m\u001b[0mx\u001b[0m\u001b[0;34m,\u001b[0m \u001b[0my\u001b[0m\u001b[0;34m,\u001b[0m \u001b[0mZ\u001b[0m\u001b[0;34m,\u001b[0m \u001b[0mcolors\u001b[0m\u001b[0;34m=\u001b[0m\u001b[0;34m'black'\u001b[0m\u001b[0;34m)\u001b[0m\u001b[0;34m;\u001b[0m\u001b[0;34m\u001b[0m\u001b[0;34m\u001b[0m\u001b[0m\n\u001b[0m",
      "\u001b[0;32m/usr/lib/python3/dist-packages/matplotlib/pyplot.py\u001b[0m in \u001b[0;36mcontour\u001b[0;34m(*args, **kwargs)\u001b[0m\n\u001b[1;32m   2795\u001b[0m                       mplDeprecation)\n\u001b[1;32m   2796\u001b[0m     \u001b[0;32mtry\u001b[0m\u001b[0;34m:\u001b[0m\u001b[0;34m\u001b[0m\u001b[0;34m\u001b[0m\u001b[0m\n\u001b[0;32m-> 2797\u001b[0;31m         \u001b[0mret\u001b[0m \u001b[0;34m=\u001b[0m \u001b[0max\u001b[0m\u001b[0;34m.\u001b[0m\u001b[0mcontour\u001b[0m\u001b[0;34m(\u001b[0m\u001b[0;34m*\u001b[0m\u001b[0margs\u001b[0m\u001b[0;34m,\u001b[0m \u001b[0;34m**\u001b[0m\u001b[0mkwargs\u001b[0m\u001b[0;34m)\u001b[0m\u001b[0;34m\u001b[0m\u001b[0;34m\u001b[0m\u001b[0m\n\u001b[0m\u001b[1;32m   2798\u001b[0m     \u001b[0;32mfinally\u001b[0m\u001b[0;34m:\u001b[0m\u001b[0;34m\u001b[0m\u001b[0;34m\u001b[0m\u001b[0m\n\u001b[1;32m   2799\u001b[0m         \u001b[0max\u001b[0m\u001b[0;34m.\u001b[0m\u001b[0m_hold\u001b[0m \u001b[0;34m=\u001b[0m \u001b[0mwashold\u001b[0m\u001b[0;34m\u001b[0m\u001b[0;34m\u001b[0m\u001b[0m\n",
      "\u001b[0;32m/usr/lib/python3/dist-packages/matplotlib/__init__.py\u001b[0m in \u001b[0;36minner\u001b[0;34m(ax, *args, **kwargs)\u001b[0m\n\u001b[1;32m   1716\u001b[0m                     warnings.warn(msg % (label_namer, func.__name__),\n\u001b[1;32m   1717\u001b[0m                                   RuntimeWarning, stacklevel=2)\n\u001b[0;32m-> 1718\u001b[0;31m             \u001b[0;32mreturn\u001b[0m \u001b[0mfunc\u001b[0m\u001b[0;34m(\u001b[0m\u001b[0max\u001b[0m\u001b[0;34m,\u001b[0m \u001b[0;34m*\u001b[0m\u001b[0margs\u001b[0m\u001b[0;34m,\u001b[0m \u001b[0;34m**\u001b[0m\u001b[0mkwargs\u001b[0m\u001b[0;34m)\u001b[0m\u001b[0;34m\u001b[0m\u001b[0;34m\u001b[0m\u001b[0m\n\u001b[0m\u001b[1;32m   1719\u001b[0m         \u001b[0mpre_doc\u001b[0m \u001b[0;34m=\u001b[0m \u001b[0minner\u001b[0m\u001b[0;34m.\u001b[0m\u001b[0m__doc__\u001b[0m\u001b[0;34m\u001b[0m\u001b[0;34m\u001b[0m\u001b[0m\n\u001b[1;32m   1720\u001b[0m         \u001b[0;32mif\u001b[0m \u001b[0mpre_doc\u001b[0m \u001b[0;32mis\u001b[0m \u001b[0;32mNone\u001b[0m\u001b[0;34m:\u001b[0m\u001b[0;34m\u001b[0m\u001b[0;34m\u001b[0m\u001b[0m\n",
      "\u001b[0;32m/usr/lib/python3/dist-packages/matplotlib/axes/_axes.py\u001b[0m in \u001b[0;36mcontour\u001b[0;34m(self, *args, **kwargs)\u001b[0m\n\u001b[1;32m   5811\u001b[0m             \u001b[0mself\u001b[0m\u001b[0;34m.\u001b[0m\u001b[0mcla\u001b[0m\u001b[0;34m(\u001b[0m\u001b[0;34m)\u001b[0m\u001b[0;34m\u001b[0m\u001b[0;34m\u001b[0m\u001b[0m\n\u001b[1;32m   5812\u001b[0m         \u001b[0mkwargs\u001b[0m\u001b[0;34m[\u001b[0m\u001b[0;34m'filled'\u001b[0m\u001b[0;34m]\u001b[0m \u001b[0;34m=\u001b[0m \u001b[0;32mFalse\u001b[0m\u001b[0;34m\u001b[0m\u001b[0;34m\u001b[0m\u001b[0m\n\u001b[0;32m-> 5813\u001b[0;31m         \u001b[0mcontours\u001b[0m \u001b[0;34m=\u001b[0m \u001b[0mmcontour\u001b[0m\u001b[0;34m.\u001b[0m\u001b[0mQuadContourSet\u001b[0m\u001b[0;34m(\u001b[0m\u001b[0mself\u001b[0m\u001b[0;34m,\u001b[0m \u001b[0;34m*\u001b[0m\u001b[0margs\u001b[0m\u001b[0;34m,\u001b[0m \u001b[0;34m**\u001b[0m\u001b[0mkwargs\u001b[0m\u001b[0;34m)\u001b[0m\u001b[0;34m\u001b[0m\u001b[0;34m\u001b[0m\u001b[0m\n\u001b[0m\u001b[1;32m   5814\u001b[0m         \u001b[0mself\u001b[0m\u001b[0;34m.\u001b[0m\u001b[0mautoscale_view\u001b[0m\u001b[0;34m(\u001b[0m\u001b[0;34m)\u001b[0m\u001b[0;34m\u001b[0m\u001b[0;34m\u001b[0m\u001b[0m\n\u001b[1;32m   5815\u001b[0m         \u001b[0;32mreturn\u001b[0m \u001b[0mcontours\u001b[0m\u001b[0;34m\u001b[0m\u001b[0;34m\u001b[0m\u001b[0m\n",
      "\u001b[0;32m/usr/lib/python3/dist-packages/matplotlib/contour.py\u001b[0m in \u001b[0;36m__init__\u001b[0;34m(self, ax, *args, **kwargs)\u001b[0m\n\u001b[1;32m    851\u001b[0m         \u001b[0mself\u001b[0m\u001b[0;34m.\u001b[0m\u001b[0m_transform\u001b[0m \u001b[0;34m=\u001b[0m \u001b[0mkwargs\u001b[0m\u001b[0;34m.\u001b[0m\u001b[0mpop\u001b[0m\u001b[0;34m(\u001b[0m\u001b[0;34m'transform'\u001b[0m\u001b[0;34m,\u001b[0m \u001b[0;32mNone\u001b[0m\u001b[0;34m)\u001b[0m\u001b[0;34m\u001b[0m\u001b[0;34m\u001b[0m\u001b[0m\n\u001b[1;32m    852\u001b[0m \u001b[0;34m\u001b[0m\u001b[0m\n\u001b[0;32m--> 853\u001b[0;31m         \u001b[0mkwargs\u001b[0m \u001b[0;34m=\u001b[0m \u001b[0mself\u001b[0m\u001b[0;34m.\u001b[0m\u001b[0m_process_args\u001b[0m\u001b[0;34m(\u001b[0m\u001b[0;34m*\u001b[0m\u001b[0margs\u001b[0m\u001b[0;34m,\u001b[0m \u001b[0;34m**\u001b[0m\u001b[0mkwargs\u001b[0m\u001b[0;34m)\u001b[0m\u001b[0;34m\u001b[0m\u001b[0;34m\u001b[0m\u001b[0m\n\u001b[0m\u001b[1;32m    854\u001b[0m         \u001b[0mself\u001b[0m\u001b[0;34m.\u001b[0m\u001b[0m_process_levels\u001b[0m\u001b[0;34m(\u001b[0m\u001b[0;34m)\u001b[0m\u001b[0;34m\u001b[0m\u001b[0;34m\u001b[0m\u001b[0m\n\u001b[1;32m    855\u001b[0m \u001b[0;34m\u001b[0m\u001b[0m\n",
      "\u001b[0;32m/usr/lib/python3/dist-packages/matplotlib/contour.py\u001b[0m in \u001b[0;36m_process_args\u001b[0;34m(self, *args, **kwargs)\u001b[0m\n\u001b[1;32m   1444\u001b[0m                 \u001b[0mself\u001b[0m\u001b[0;34m.\u001b[0m\u001b[0m_corner_mask\u001b[0m \u001b[0;34m=\u001b[0m \u001b[0mmpl\u001b[0m\u001b[0;34m.\u001b[0m\u001b[0mrcParams\u001b[0m\u001b[0;34m[\u001b[0m\u001b[0;34m'contour.corner_mask'\u001b[0m\u001b[0;34m]\u001b[0m\u001b[0;34m\u001b[0m\u001b[0;34m\u001b[0m\u001b[0m\n\u001b[1;32m   1445\u001b[0m \u001b[0;34m\u001b[0m\u001b[0m\n\u001b[0;32m-> 1446\u001b[0;31m             \u001b[0mx\u001b[0m\u001b[0;34m,\u001b[0m \u001b[0my\u001b[0m\u001b[0;34m,\u001b[0m \u001b[0mz\u001b[0m \u001b[0;34m=\u001b[0m \u001b[0mself\u001b[0m\u001b[0;34m.\u001b[0m\u001b[0m_contour_args\u001b[0m\u001b[0;34m(\u001b[0m\u001b[0margs\u001b[0m\u001b[0;34m,\u001b[0m \u001b[0mkwargs\u001b[0m\u001b[0;34m)\u001b[0m\u001b[0;34m\u001b[0m\u001b[0;34m\u001b[0m\u001b[0m\n\u001b[0m\u001b[1;32m   1447\u001b[0m \u001b[0;34m\u001b[0m\u001b[0m\n\u001b[1;32m   1448\u001b[0m             \u001b[0m_mask\u001b[0m \u001b[0;34m=\u001b[0m \u001b[0mma\u001b[0m\u001b[0;34m.\u001b[0m\u001b[0mgetmask\u001b[0m\u001b[0;34m(\u001b[0m\u001b[0mz\u001b[0m\u001b[0;34m)\u001b[0m\u001b[0;34m\u001b[0m\u001b[0;34m\u001b[0m\u001b[0m\n",
      "\u001b[0;32m/usr/lib/python3/dist-packages/matplotlib/contour.py\u001b[0m in \u001b[0;36m_contour_args\u001b[0;34m(self, args, kwargs)\u001b[0m\n\u001b[1;32m   1525\u001b[0m             \u001b[0margs\u001b[0m \u001b[0;34m=\u001b[0m \u001b[0margs\u001b[0m\u001b[0;34m[\u001b[0m\u001b[0;36m1\u001b[0m\u001b[0;34m:\u001b[0m\u001b[0;34m]\u001b[0m\u001b[0;34m\u001b[0m\u001b[0;34m\u001b[0m\u001b[0m\n\u001b[1;32m   1526\u001b[0m         \u001b[0;32melif\u001b[0m \u001b[0mNargs\u001b[0m \u001b[0;34m<=\u001b[0m \u001b[0;36m4\u001b[0m\u001b[0;34m:\u001b[0m\u001b[0;34m\u001b[0m\u001b[0;34m\u001b[0m\u001b[0m\n\u001b[0;32m-> 1527\u001b[0;31m             \u001b[0mx\u001b[0m\u001b[0;34m,\u001b[0m \u001b[0my\u001b[0m\u001b[0;34m,\u001b[0m \u001b[0mz\u001b[0m \u001b[0;34m=\u001b[0m \u001b[0mself\u001b[0m\u001b[0;34m.\u001b[0m\u001b[0m_check_xyz\u001b[0m\u001b[0;34m(\u001b[0m\u001b[0margs\u001b[0m\u001b[0;34m[\u001b[0m\u001b[0;34m:\u001b[0m\u001b[0;36m3\u001b[0m\u001b[0;34m]\u001b[0m\u001b[0;34m,\u001b[0m \u001b[0mkwargs\u001b[0m\u001b[0;34m)\u001b[0m\u001b[0;34m\u001b[0m\u001b[0;34m\u001b[0m\u001b[0m\n\u001b[0m\u001b[1;32m   1528\u001b[0m             \u001b[0margs\u001b[0m \u001b[0;34m=\u001b[0m \u001b[0margs\u001b[0m\u001b[0;34m[\u001b[0m\u001b[0;36m3\u001b[0m\u001b[0;34m:\u001b[0m\u001b[0;34m]\u001b[0m\u001b[0;34m\u001b[0m\u001b[0;34m\u001b[0m\u001b[0m\n\u001b[1;32m   1529\u001b[0m         \u001b[0;32melse\u001b[0m\u001b[0;34m:\u001b[0m\u001b[0;34m\u001b[0m\u001b[0;34m\u001b[0m\u001b[0m\n",
      "\u001b[0;32m/usr/lib/python3/dist-packages/matplotlib/contour.py\u001b[0m in \u001b[0;36m_check_xyz\u001b[0;34m(self, args, kwargs)\u001b[0m\n\u001b[1;32m   1559\u001b[0m \u001b[0;34m\u001b[0m\u001b[0m\n\u001b[1;32m   1560\u001b[0m         \u001b[0;32mif\u001b[0m \u001b[0mz\u001b[0m\u001b[0;34m.\u001b[0m\u001b[0mndim\u001b[0m \u001b[0;34m!=\u001b[0m \u001b[0;36m2\u001b[0m\u001b[0;34m:\u001b[0m\u001b[0;34m\u001b[0m\u001b[0;34m\u001b[0m\u001b[0m\n\u001b[0;32m-> 1561\u001b[0;31m             \u001b[0;32mraise\u001b[0m \u001b[0mTypeError\u001b[0m\u001b[0;34m(\u001b[0m\u001b[0;34m\"Input z must be a 2D array.\"\u001b[0m\u001b[0;34m)\u001b[0m\u001b[0;34m\u001b[0m\u001b[0;34m\u001b[0m\u001b[0m\n\u001b[0m\u001b[1;32m   1562\u001b[0m         \u001b[0;32melif\u001b[0m \u001b[0mz\u001b[0m\u001b[0;34m.\u001b[0m\u001b[0mshape\u001b[0m\u001b[0;34m[\u001b[0m\u001b[0;36m0\u001b[0m\u001b[0;34m]\u001b[0m \u001b[0;34m<\u001b[0m \u001b[0;36m2\u001b[0m \u001b[0;32mor\u001b[0m \u001b[0mz\u001b[0m\u001b[0;34m.\u001b[0m\u001b[0mshape\u001b[0m\u001b[0;34m[\u001b[0m\u001b[0;36m1\u001b[0m\u001b[0;34m]\u001b[0m \u001b[0;34m<\u001b[0m \u001b[0;36m2\u001b[0m\u001b[0;34m:\u001b[0m\u001b[0;34m\u001b[0m\u001b[0;34m\u001b[0m\u001b[0m\n\u001b[1;32m   1563\u001b[0m             \u001b[0;32mraise\u001b[0m \u001b[0mTypeError\u001b[0m\u001b[0;34m(\u001b[0m\u001b[0;34m\"Input z must be at least a 2x2 array.\"\u001b[0m\u001b[0;34m)\u001b[0m\u001b[0;34m\u001b[0m\u001b[0;34m\u001b[0m\u001b[0m\n",
      "\u001b[0;31mTypeError\u001b[0m: Input z must be a 2D array."
     ]
    },
    {
     "data": {
      "image/png": "[encoded data removed]",
      "text/plain": [
       "<matplotlib.figure.Figure at 0x7f2c01153fd0>"
      ]
     },
     "metadata": {
      "needs_background": "light"
     },
     "output_type": "display_data"
    }
   ],
   "source": [
    "x,y = np.meshgrid(X_test[:,0], X_test[:,1])\n",
    "Z = []\n",
    "for i in range(len(X_test)):\n",
    "    Z.append(kNN(X_train, y_train, X_test[i], k))\n",
    "    \n",
    "plt.contour(x, y, Z, colors='black');"
   ]
  },
  {
   "cell_type": "markdown",
   "metadata": {
    "colab_type": "text",
    "id": "9kDljrub1gxW"
   },
   "source": [
    "#### Question 2"
   ]
  },
  {
   "cell_type": "code",
   "execution_count": 8,
   "metadata": {
    "colab": {
     "base_uri": "https://localhost:8080/",
     "height": 34
    },
    "colab_type": "code",
    "id": "_6odELtq1hNd",
    "outputId": "7fff2917-2b90-4c84-cdb8-e3c23de731d6"
   },
   "outputs": [
    {
     "name": "stdout",
     "output_type": "stream",
     "text": [
      "(0.0, 0.0)\n"
     ]
    }
   ],
   "source": [
    "def run_N_dataset(N,sig,k):\n",
    "  err = []\n",
    "  for i in range(N):\n",
    "    X_train,y_train,X_test,y_test = generate_dataset(sig)\n",
    "    err.append(predict(X_train, X_test, y_train, y_test, k))\n",
    "  err = np.array(err)\n",
    "  return err.mean(), err.std()\n",
    "\n",
    "K = 5\n",
    "print(run_N_dataset(50,0.05,K))"
   ]
  },
  {
   "cell_type": "code",
   "execution_count": 9,
   "metadata": {
    "colab": {
     "base_uri": "https://localhost:8080/",
     "height": 866
    },
    "colab_type": "code",
    "id": "ZtsuA4mnSBCl",
    "outputId": "f2e06e45-d01f-47f5-bba7-45e027a61f13"
   },
   "outputs": [
    {
     "name": "stdout",
     "output_type": "stream",
     "text": [
      "[0.     0.0042 0.0458 0.1562] [0.         0.00635295 0.02409066 0.03565894]\n"
     ]
    },
    {
     "data": {
      "image/png": "[encoded data removed]",
      "text/plain": [
       "<matplotlib.figure.Figure at 0x7f2c088874a8>"
      ]
     },
     "metadata": {
      "needs_background": "light"
     },
     "output_type": "display_data"
    },
    {
     "name": "stdout",
     "output_type": "stream",
     "text": [
      "[0.     0.0042 0.0494 0.1634] [0.         0.00695414 0.02101523 0.03502057]\n"
     ]
    },
    {
     "data": {
      "image/png": "[encoded data removed]",
      "text/plain": [
       "<matplotlib.figure.Figure at 0x7f2c088781d0>"
      ]
     },
     "metadata": {
      "needs_background": "light"
     },
     "output_type": "display_data"
    },
    {
     "name": "stdout",
     "output_type": "stream",
     "text": [
      "[0.     0.0034 0.0344 0.1182] [0.         0.0065146  0.02031354 0.02605302]\n"
     ]
    },
    {
     "data": {
      "image/png": "[encoded data removed]",
      "text/plain": [
       "<matplotlib.figure.Figure at 0x7f2c4d5140b8>"
      ]
     },
     "metadata": {
      "needs_background": "light"
     },
     "output_type": "display_data"
    }
   ],
   "source": [
    "#with fixed k and differents sigma\n",
    "def run_N_dataset_sigmas(N,sigmas,k):\n",
    "  err = np.zeros(len(sigmas))\n",
    "  dev = np.zeros(len(sigmas))\n",
    "  for sig in range(len(sigmas)):\n",
    "    err[sig], dev[sig] = run_N_dataset(N,sigmas[sig],k)\n",
    "  return err,dev\n",
    "\n",
    "sigmas = [0.15,0.25,0.35,0.5]\n",
    "K = [1,2,10]\n",
    "for k in K:\n",
    "  err, s = run_N_dataset_sigmas(50,sigmas,k)\n",
    "  print(err,s)\n",
    "  plt.bar(sigmas,err, width=0.04, align='center')\n",
    "  plt.errorbar(sigmas,err,yerr=s, color='black', fmt='o')\n",
    "  plt.title(\"e($\\sigma$,k=\"+str(k)+\") \")\n",
    "  plt.savefig(\"q1.png\")\n",
    "  plt.show(block=False)"
   ]
  },
  {
   "cell_type": "code",
   "execution_count": 10,
   "metadata": {
    "colab": {
     "base_uri": "https://localhost:8080/",
     "height": 1000
    },
    "colab_type": "code",
    "id": "F3CM0Z_YXW6G",
    "outputId": "78ccf871-8690-4891-98d9-b6b7ee8e17c6"
   },
   "outputs": [
    {
     "name": "stdout",
     "output_type": "stream",
     "text": [
      "[0.0006 0.0006 0.0002 0.0004 0.0006 0.    ] [0.00237487 0.00237487 0.0014     0.00195959 0.00237487 0.        ]\n"
     ]
    },
    {
     "data": {
      "image/png": "[encoded data removed]",
      "text/plain": [
       "<matplotlib.figure.Figure at 0x7f2c0874de48>"
      ]
     },
     "metadata": {
      "needs_background": "light"
     },
     "output_type": "display_data"
    },
    {
     "name": "stdout",
     "output_type": "stream",
     "text": [
      "[0.0822 0.0862 0.0594 0.0588 0.0568 0.058 ] [0.0292089  0.03297817 0.02525153 0.01935355 0.02257787 0.02172556]\n"
     ]
    },
    {
     "data": {
      "image/png": "[encoded data removed]",
      "text/plain": [
       "<matplotlib.figure.Figure at 0x7f2c087afb38>"
      ]
     },
     "metadata": {
      "needs_background": "light"
     },
     "output_type": "display_data"
    },
    {
     "name": "stdout",
     "output_type": "stream",
     "text": [
      "[0.1546 0.1654 0.1164 0.1202 0.126  0.1206] [0.04396408 0.03317891 0.02964861 0.0270917  0.03954744 0.03264414]\n"
     ]
    },
    {
     "data": {
      "image/png": "[encoded data removed]",
      "text/plain": [
       "<matplotlib.figure.Figure at 0x7f2c086d0080>"
      ]
     },
     "metadata": {
      "needs_background": "light"
     },
     "output_type": "display_data"
    },
    {
     "name": "stdout",
     "output_type": "stream",
     "text": [
      "[0.248  0.245  0.1866 0.1832 0.1766 0.1788] [0.03919184 0.04976947 0.04236083 0.03331306 0.0414058  0.04082352]\n"
     ]
    },
    {
     "data": {
      "image/png": "[encoded data removed]",
      "text/plain": [
       "<matplotlib.figure.Figure at 0x7f2c086ccdd8>"
      ]
     },
     "metadata": {
      "needs_background": "light"
     },
     "output_type": "display_data"
    }
   ],
   "source": [
    "#with fixed sigma and differents k\n",
    "def run_N_dataset_K(N,sig,K):\n",
    "  err = np.zeros(len(K))\n",
    "  dev = np.zeros(len(K))\n",
    "  for k in range(len(K)):\n",
    "    err[k], dev[k] = run_N_dataset(N,sig,K[k])\n",
    "  return err,dev\n",
    "\n",
    "sigmas = [0.2,0.4,0.5,0.6]\n",
    "K = [1,2,5,10,15,30]\n",
    "for sig in sigmas:\n",
    "  err, s = run_N_dataset_K(50,sig,K)\n",
    "  print(err,s)\n",
    "  plt.bar(K,err, width=0.8, align='center')\n",
    "  plt.errorbar(K,err,yerr=s, color='black', fmt='o')\n",
    "  plt.title(\"e($\\sigma$ = \"+str(sig)+\",k) \")\n",
    "  plt.savefig(\"q1.png\")\n",
    "  plt.show(block=False)"
   ]
  },
  {
   "cell_type": "markdown",
   "metadata": {
    "colab_type": "text",
    "id": "Pk3g7BrH0U24"
   },
   "source": [
    "### 2- k-NN regression: Szeged-weather dataset\n",
    "\n",
    "---\n",
    "#### Question 1\n"
   ]
  },
  {
   "cell_type": "code",
   "execution_count": 11,
   "metadata": {
    "colab": {
     "base_uri": "https://localhost:8080/",
     "height": 442
    },
    "colab_type": "code",
    "id": "BKT8Kayu0q0h",
    "outputId": "5bbd1ae1-c65e-4596-fed1-85e7cb0b769f",
    "scrolled": false
   },
   "outputs": [
    {
     "data": {
      "text/plain": [
       "Index(['Summary', 'Precip Type', 'Temperature (C)', 'Apparent Temperature (C)',\n",
       "       'Humidity', 'Wind Speed (km/h)', 'Wind Bearing (degrees)',\n",
       "       'Visibility (km)', 'Loud Cover', 'Pressure (millibars)',\n",
       "       'Daily Summary'],\n",
       "      dtype='object')"
      ]
     },
     "execution_count": 11,
     "metadata": {},
     "output_type": "execute_result"
    }
   ],
   "source": [
    "import pandas as pd\n",
    "\n",
    "df=pd.read_csv('weatherHistory.csv', index_col=0)\n",
    "df.columns"
   ]
  },
  {
   "cell_type": "code",
   "execution_count": 12,
   "metadata": {},
   "outputs": [],
   "source": [
    "temperature = np.array(df[\"Temperature (C)\"])\n",
    "humidity = np.array(df[\"Humidity\"])\n",
    "apparent_temp = np.array(df[\"Apparent Temperature (C)\"])"
   ]
  },
  {
   "cell_type": "code",
   "execution_count": 13,
   "metadata": {},
   "outputs": [
    {
     "data": {
      "image/png": "[encoded data removed]",
      "text/plain": [
       "<matplotlib.figure.Figure at 0x7f2c014e0748>"
      ]
     },
     "metadata": {
      "needs_background": "light"
     },
     "output_type": "display_data"
    }
   ],
   "source": [
    "#Permet d'afficher la température ressentie (couleur) en fonction \n",
    "#de l'humidité et de la température\n",
    "plt.scatter(temperature,humidity,c=apparent_temp,cmap=\"jet\")\n",
    "plt.xlabel(\"Temperature (C)\")\n",
    "plt.ylabel(\"Humidity\")\n",
    "plt.colorbar()\n",
    "plt.show(block= False)"
   ]
  },
  {
   "cell_type": "markdown",
   "metadata": {},
   "source": [
    "#### Question 2"
   ]
  },
  {
   "cell_type": "code",
   "execution_count": 14,
   "metadata": {},
   "outputs": [],
   "source": [
    "dataset = np.transpose((temperature[0:2000],humidity[0:2000],apparent_temp[0:2000]))\n",
    "np.random.permutation(dataset)\n",
    "\n",
    "#x correspond au 2 première colonne, et y à la troisième\n",
    "x = [(row[0],row[1]) for row in dataset]\n",
    "y = [row[2] for row in dataset]\n",
    "\n",
    "X1 = x[0:400]\n",
    "X2 = x[400:800]\n",
    "X3 = x[800:1200]\n",
    "X4 = x[1200:1600]\n",
    "X5 = x[1600:2000]\n",
    "\n",
    "y1 = y[0:400]\n",
    "y2 = y[400:800]\n",
    "y3 = y[800:1200]\n",
    "y4 = y[1200:1600]\n",
    "y5 = y[1600:2000]\n",
    "\n",
    "X=[X1,X2,X3,X4,X5]\n",
    "Y=[y1,y2,y3,y4,y5]"
   ]
  },
  {
   "cell_type": "code",
   "execution_count": 15,
   "metadata": {},
   "outputs": [],
   "source": [
    "def kNN_q2(X_train,labels,x,k):\n",
    "  dist = sort_distance(x,X_train)[:k]\n",
    "  ret = 0.0\n",
    "\n",
    "  for i in range(k):\n",
    "    ri = dist[i][0]\n",
    "    ret += labels[ri]\n",
    "    \n",
    "  return ret/k"
   ]
  },
  {
   "cell_type": "code",
   "execution_count": 16,
   "metadata": {},
   "outputs": [],
   "source": [
    "def predict_q2(X_train, X_test, y_train, y_test, k):\n",
    "    y_predict = np.zeros(len(X_test), dtype=int)\n",
    "    error = 0\n",
    "    for i in range(len(X_test)):\n",
    "        y_predict[i] = kNN_q2(X_train, y_train, X_test[i], k)\n",
    "        error += abs(y_predict[i]-y_test[i])\n",
    "    return error / len(X_test)"
   ]
  },
  {
   "cell_type": "code",
   "execution_count": 17,
   "metadata": {},
   "outputs": [],
   "source": [
    "def repeat_5_times(k):\n",
    "    err = np.zeros(5)\n",
    "    for i in range(5):\n",
    "        X_test = X[i]\n",
    "        y_test = Y[i]\n",
    "        X_train = np.concatenate(np.delete(X,i,0))\n",
    "        y_train = np.concatenate(np.delete(Y,i,0))\n",
    "        err[i] = predict_q2(X_train, X_test, y_train, y_test, k)\n",
    "    return err.mean(), err.std()"
   ]
  },
  {
   "cell_type": "code",
   "execution_count": 18,
   "metadata": {},
   "outputs": [
    {
     "name": "stdout",
     "output_type": "stream",
     "text": [
      "0.9784500000000005 0.5341363590379301\n"
     ]
    }
   ],
   "source": [
    "e,s = repeat_5_times(1)\n",
    "print(e, s)"
   ]
  },
  {
   "cell_type": "code",
   "execution_count": 19,
   "metadata": {},
   "outputs": [
    {
     "name": "stdout",
     "output_type": "stream",
     "text": [
      "0.9637277777777781 0.43333682571598375\n"
     ]
    }
   ],
   "source": [
    "e,s = repeat_5_times(10)\n",
    "print(e, s)"
   ]
  },
  {
   "cell_type": "code",
   "execution_count": 20,
   "metadata": {},
   "outputs": [
    {
     "name": "stdout",
     "output_type": "stream",
     "text": [
      "0.9894388888888892 0.5037075796708855\n",
      "0.9543944444444449 0.4939376405916138\n",
      "0.9573166666666669 0.45815134125844686\n",
      "0.9524222222222226 0.4585022419906951\n",
      "0.9372111111111113 0.4466716280646235\n",
      "0.9554944444444449 0.451169097651785\n",
      "0.9634555555555557 0.45152260185351495\n",
      "0.965277777777778 0.43124660698253686\n",
      "0.9637277777777781 0.43333682571598375\n"
     ]
    },
    {
     "data": {
      "image/png": "[encoded data removed]",
      "text/plain": [
       "<matplotlib.figure.Figure at 0x7f2c0149dc88>"
      ]
     },
     "metadata": {
      "needs_background": "light"
     },
     "output_type": "display_data"
    }
   ],
   "source": [
    "def repeat_5_with_K(K):\n",
    "    e = np.zeros(len(K))\n",
    "    s = np.zeros(len(K))\n",
    "    for k in range(len(K)):\n",
    "        e[k],s[k] = repeat_5_times(K[k])\n",
    "        print(e[k],s[k])\n",
    "    plt.bar(K,e, width=0.8, align='center')\n",
    "    plt.errorbar(K,e,yerr=s, color='black', fmt='o')\n",
    "    plt.title(\"e(k)\")\n",
    "    plt.show(block=False)\n",
    "        \n",
    "K = [2,3,4,5,6,7,8,9,10]\n",
    "repeat_5_with_K(K)"
   ]
  },
  {
   "cell_type": "markdown",
   "metadata": {
    "colab_type": "text",
    "id": "gsqYiecO0rUg"
   },
   "source": [
    "### 3- k-NN classification: MNIST dataset\n",
    "\n",
    "---\n",
    "\n"
   ]
  },
  {
   "cell_type": "code",
   "execution_count": 21,
   "metadata": {},
   "outputs": [],
   "source": [
    "import scipy.io\n",
    "train = scipy.io.loadmat(\"data_app.mat\")\n",
    "test = scipy.io.loadmat(\"data_test.mat\")"
   ]
  },
  {
   "cell_type": "code",
   "execution_count": 22,
   "metadata": {},
   "outputs": [
    {
     "data": {
      "image/png": "[encoded data removed]",
      "text/plain": [
       "<matplotlib.figure.Figure at 0x7f2c01481240>"
      ]
     },
     "metadata": {
      "needs_background": "light"
     },
     "output_type": "display_data"
    }
   ],
   "source": [
    "fig, axs = plt.subplots(3,3)\n",
    "'''Display 9 images from the set.\n",
    "'''\n",
    "for i in range(9):\n",
    "    im=train['x'][i]\n",
    "    im = im.reshape((28,28))\n",
    "    image_c = im.astype(float) / 255\n",
    "    # On affiche une image pour chaque subfigure\n",
    "    axs[i//3, i%3].imshow(image_c,cmap='gray')"
   ]
  },
  {
   "cell_type": "code",
   "execution_count": 23,
   "metadata": {},
   "outputs": [
    {
     "data": {
      "text/plain": [
       "Text(0.5,1,'Histogram for the train set')"
      ]
     },
     "execution_count": 23,
     "metadata": {},
     "output_type": "execute_result"
    },
    {
     "data": {
      "image/png": "[encoded data removed]",
      "text/plain": [
       "<matplotlib.figure.Figure at 0x7f2c0121f9b0>"
      ]
     },
     "metadata": {
      "needs_background": "light"
     },
     "output_type": "display_data"
    }
   ],
   "source": [
    "'''Plot the histograms\n",
    "'''\n",
    "\n",
    "labels_train = train['S']\n",
    "labels_train = labels_train.reshape(len(labels_train))\n",
    "for i in range(len(labels_train)):\n",
    "    if labels_train[i] == 10:\n",
    "        labels_train[i] = 0\n",
    "        \n",
    "\n",
    "labels_test = test['S']\n",
    "labels_test = labels_test.reshape(len(labels_test))\n",
    "for i in range(len(labels_test)):\n",
    "    if labels_test[i] == 10:\n",
    "        labels_test[i] = 0\n",
    "\n",
    "plt.hist(labels_train, width = 0.5)\n",
    "plt.title(\"Histogram for the train set\")\n"
   ]
  },
  {
   "cell_type": "code",
   "execution_count": 24,
   "metadata": {},
   "outputs": [
    {
     "data": {
      "text/plain": [
       "Text(0.5,1,'Histogram for the test set')"
      ]
     },
     "execution_count": 24,
     "metadata": {},
     "output_type": "execute_result"
    },
    {
     "data": {
      "image/png": "[encoded data removed]",
      "text/plain": [
       "<matplotlib.figure.Figure at 0x7f2c011f3c88>"
      ]
     },
     "metadata": {
      "needs_background": "light"
     },
     "output_type": "display_data"
    }
   ],
   "source": [
    "plt.hist(labels_test, width = 0.5)\n",
    "plt.title(\"Histogram for the test set\")"
   ]
  },
  {
   "cell_type": "code",
   "execution_count": 25,
   "metadata": {},
   "outputs": [
    {
     "name": "stdout",
     "output_type": "stream",
     "text": [
      "Exepected label: 0, get: 5\n",
      "Exepected label: 7, get: 5\n",
      "Exepected label: 1, get: 5\n",
      "Exepected label: 1, get: 5\n",
      "Exepected label: 4, get: 5\n",
      "Exepected label: 9, get: 5\n",
      "Exepected label: 4, get: 5\n",
      "Exepected label: 3, get: 5\n",
      "Exepected label: 4, get: 5\n",
      "Exepected label: 8, get: 5\n",
      "Exepected label: 2, get: 5\n",
      "Exepected label: 2, get: 5\n",
      "Exepected label: 1, get: 5\n",
      "Exepected label: 8, get: 5\n",
      "Exepected label: 7, get: 5\n",
      "Exepected label: 0, get: 5\n",
      "Exepected label: 8, get: 5\n",
      "Exepected label: 1, get: 5\n",
      "Exepected label: 0, get: 5\n",
      "Exepected label: 7, get: 5\n",
      "Exepected label: 6, get: 5\n",
      "Exepected label: 3, get: 5\n",
      "Exepected label: 7, get: 5\n",
      "Exepected label: 7, get: 5\n",
      "Exepected label: 5, get: 5\n",
      "Exepected label: 8, get: 5\n",
      "Exepected label: 8, get: 5\n",
      "Exepected label: 9, get: 5\n",
      "Exepected label: 0, get: 5\n",
      "Exepected label: 0, get: 5\n",
      "Exepected label: 4, get: 5\n",
      "Exepected label: 1, get: 5\n",
      "Exepected label: 5, get: 5\n",
      "Exepected label: 2, get: 5\n",
      "Exepected label: 2, get: 5\n",
      "Exepected label: 3, get: 5\n",
      "Exepected label: 9, get: 5\n",
      "Exepected label: 4, get: 5\n",
      "Exepected label: 9, get: 5\n",
      "Exepected label: 5, get: 5\n",
      "Exepected label: 0, get: 5\n",
      "Exepected label: 6, get: 5\n",
      "Exepected label: 7, get: 5\n",
      "Exepected label: 7, get: 5\n",
      "Exepected label: 1, get: 5\n",
      "Exepected label: 8, get: 5\n",
      "Exepected label: 0, get: 5\n",
      "Exepected label: 2, get: 5\n",
      "Exepected label: 2, get: 5\n",
      "Exepected label: 0, get: 5\n",
      "Exepected label: 4, get: 5\n",
      "Exepected label: 1, get: 5\n",
      "Exepected label: 1, get: 5\n",
      "Exepected label: 2, get: 5\n",
      "Exepected label: 7, get: 5\n",
      "Exepected label: 3, get: 5\n",
      "Exepected label: 9, get: 5\n",
      "Exepected label: 7, get: 5\n",
      "Exepected label: 2, get: 5\n",
      "Exepected label: 8, get: 5\n",
      "Exepected label: 1, get: 5\n",
      "Exepected label: 9, get: 5\n",
      "Exepected label: 5, get: 5\n",
      "Exepected label: 8, get: 5\n",
      "Exepected label: 8, get: 5\n",
      "Exepected label: 1, get: 5\n",
      "Exepected label: 9, get: 5\n",
      "Exepected label: 8, get: 5\n",
      "Exepected label: 3, get: 5\n",
      "Exepected label: 1, get: 5\n",
      "Exepected label: 6, get: 5\n",
      "Exepected label: 5, get: 5\n",
      "Exepected label: 7, get: 5\n",
      "Exepected label: 4, get: 5\n",
      "Exepected label: 2, get: 5\n",
      "Exepected label: 7, get: 5\n",
      "Exepected label: 0, get: 5\n",
      "Exepected label: 3, get: 5\n",
      "Exepected label: 0, get: 5\n",
      "Exepected label: 4, get: 5\n",
      "Exepected label: 1, get: 5\n",
      "Exepected label: 1, get: 5\n",
      "Exepected label: 7, get: 5\n",
      "Exepected label: 9, get: 5\n",
      "Exepected label: 1, get: 5\n",
      "Exepected label: 1, get: 5\n",
      "Exepected label: 8, get: 5\n",
      "Exepected label: 5, get: 5\n",
      "Exepected label: 7, get: 5\n",
      "Exepected label: 5, get: 5\n",
      "Exepected label: 0, get: 5\n",
      "Exepected label: 6, get: 5\n",
      "Exepected label: 6, get: 5\n",
      "Exepected label: 0, get: 5\n",
      "Exepected label: 4, get: 5\n",
      "Exepected label: 1, get: 5\n",
      "Exepected label: 2, get: 5\n",
      "Exepected label: 3, get: 5\n",
      "Exepected label: 4, get: 5\n",
      "Exepected label: 4, get: 5\n",
      "Exepected label: 6, get: 5\n",
      "Exepected label: 8, get: 5\n",
      "Exepected label: 0, get: 5\n",
      "Exepected label: 9, get: 5\n",
      "Exepected label: 5, get: 5\n",
      "Exepected label: 8, get: 5\n",
      "Exepected label: 7, get: 5\n",
      "Exepected label: 0, get: 5\n",
      "Exepected label: 3, get: 5\n",
      "Exepected label: 5, get: 5\n",
      "Exepected label: 4, get: 5\n",
      "Exepected label: 5, get: 5\n",
      "Exepected label: 9, get: 5\n",
      "Exepected label: 6, get: 5\n",
      "Exepected label: 7, get: 5\n",
      "Exepected label: 1, get: 5\n",
      "Exepected label: 9, get: 5\n",
      "Exepected label: 6, get: 5\n",
      "Exepected label: 1, get: 5\n",
      "Exepected label: 3, get: 5\n",
      "Exepected label: 8, get: 5\n",
      "Exepected label: 3, get: 5\n",
      "Exepected label: 9, get: 5\n",
      "Exepected label: 1, get: 5\n",
      "Exepected label: 2, get: 5\n",
      "Exepected label: 7, get: 5\n",
      "Exepected label: 7, get: 5\n",
      "Exepected label: 7, get: 5\n",
      "Exepected label: 0, get: 5\n",
      "Exepected label: 2, get: 5\n",
      "Exepected label: 3, get: 5\n",
      "Exepected label: 1, get: 5\n",
      "Exepected label: 1, get: 5\n",
      "Exepected label: 4, get: 5\n",
      "Exepected label: 2, get: 5\n",
      "Exepected label: 5, get: 5\n",
      "Exepected label: 6, get: 5\n",
      "Exepected label: 0, get: 5\n",
      "Exepected label: 9, get: 5\n",
      "Exepected label: 6, get: 5\n",
      "Exepected label: 2, get: 5\n",
      "Exepected label: 8, get: 5\n",
      "Exepected label: 9, get: 5\n",
      "Exepected label: 2, get: 5\n",
      "Exepected label: 3, get: 5\n",
      "Exepected label: 3, get: 5\n",
      "Exepected label: 6, get: 5\n",
      "Exepected label: 9, get: 5\n",
      "Exepected label: 1, get: 5\n",
      "Exepected label: 4, get: 5\n",
      "Exepected label: 3, get: 5\n",
      "Exepected label: 3, get: 5\n",
      "Exepected label: 0, get: 5\n",
      "Exepected label: 7, get: 5\n",
      "Exepected label: 7, get: 5\n",
      "Exepected label: 1, get: 5\n",
      "Exepected label: 7, get: 5\n",
      "Exepected label: 7, get: 5\n",
      "Exepected label: 3, get: 5\n",
      "Exepected label: 6, get: 5\n",
      "Exepected label: 4, get: 5\n",
      "Exepected label: 9, get: 5\n",
      "Exepected label: 5, get: 5\n",
      "Exepected label: 4, get: 5\n",
      "Exepected label: 4, get: 5\n",
      "Exepected label: 2, get: 5\n",
      "Exepected label: 7, get: 5\n",
      "Exepected label: 9, get: 5\n",
      "Exepected label: 0, get: 5\n",
      "Exepected label: 9, get: 5\n",
      "Exepected label: 8, get: 5\n",
      "Exepected label: 4, get: 5\n",
      "Exepected label: 4, get: 5\n",
      "Exepected label: 9, get: 5\n",
      "Exepected label: 1, get: 5\n",
      "Exepected label: 2, get: 5\n",
      "Exepected label: 4, get: 5\n",
      "Exepected label: 9, get: 5\n",
      "Exepected label: 3, get: 5\n",
      "Exepected label: 0, get: 5\n",
      "Exepected label: 4, get: 5\n",
      "Exepected label: 1, get: 5\n",
      "Exepected label: 6, get: 5\n",
      "Exepected label: 2, get: 5\n",
      "Exepected label: 6, get: 5\n",
      "Exepected label: 3, get: 5\n",
      "Exepected label: 7, get: 5\n",
      "Exepected label: 4, get: 5\n",
      "Exepected label: 2, get: 5\n",
      "Exepected label: 6, get: 5\n",
      "Exepected label: 6, get: 5\n",
      "Exepected label: 7, get: 5\n",
      "Exepected label: 1, get: 5\n",
      "Exepected label: 8, get: 5\n",
      "Exepected label: 9, get: 5\n",
      "Exepected label: 0, get: 5\n",
      "Exepected label: 4, get: 5\n",
      "Exepected label: 1, get: 5\n",
      "Exepected label: 4, get: 5\n",
      "Exepected label: 2, get: 5\n",
      "Exepected label: 1, get: 5\n",
      "Exepected label: 3, get: 5\n",
      "Exepected label: 6, get: 5\n",
      "Exepected label: 4, get: 5\n",
      "Exepected label: 6, get: 5\n",
      "Exepected label: 7, get: 5\n",
      "Exepected label: 5, get: 5\n",
      "Exepected label: 8, get: 5\n",
      "Exepected label: 7, get: 5\n",
      "Exepected label: 0, get: 5\n",
      "Exepected label: 5, get: 5\n",
      "Exepected label: 1, get: 5\n",
      "Exepected label: 4, get: 5\n",
      "Exepected label: 2, get: 5\n",
      "Exepected label: 8, get: 5\n",
      "Exepected label: 4, get: 5\n",
      "Exepected label: 7, get: 5\n",
      "Exepected label: 7, get: 5\n",
      "Exepected label: 3, get: 5\n",
      "Exepected label: 8, get: 5\n",
      "Exepected label: 4, get: 5\n",
      "Exepected label: 9, get: 5\n",
      "Exepected label: 5, get: 5\n",
      "Exepected label: 8, get: 5\n",
      "Exepected label: 6, get: 5\n",
      "Exepected label: 7, get: 5\n",
      "Exepected label: 3, get: 5\n",
      "Exepected label: 4, get: 5\n",
      "Exepected label: 6, get: 5\n",
      "Exepected label: 7, get: 5\n",
      "Exepected label: 1, get: 5\n",
      "Exepected label: 7, get: 5\n",
      "Exepected label: 4, get: 5\n",
      "Exepected label: 3, get: 5\n",
      "Exepected label: 3, get: 5\n",
      "Exepected label: 9, get: 5\n",
      "Exepected label: 8, get: 5\n",
      "Exepected label: 8, get: 5\n",
      "Exepected label: 1, get: 5\n",
      "Exepected label: 8, get: 5\n",
      "Exepected label: 6, get: 5\n",
      "Exepected label: 3, get: 5\n",
      "Exepected label: 1, get: 5\n",
      "Exepected label: 1, get: 5\n",
      "Exepected label: 3, get: 5\n",
      "Exepected label: 5, get: 5\n",
      "Exepected label: 2, get: 5\n",
      "Exepected label: 8, get: 5\n",
      "Exepected label: 4, get: 5\n",
      "Exepected label: 2, get: 5\n",
      "Exepected label: 9, get: 5\n",
      "Exepected label: 7, get: 5\n",
      "Exepected label: 1, get: 5\n",
      "Exepected label: 4, get: 5\n",
      "Exepected label: 8, get: 5\n",
      "Exepected label: 2, get: 5\n",
      "Exepected label: 9, get: 5\n",
      "Exepected label: 6, get: 5\n",
      "Exepected label: 4, get: 5\n",
      "Exepected label: 1, get: 5\n",
      "Exepected label: 3, get: 5\n",
      "Exepected label: 4, get: 5\n",
      "Exepected label: 2, get: 5\n",
      "Exepected label: 5, get: 5\n",
      "Exepected label: 2, get: 5\n",
      "Exepected label: 5, get: 5\n",
      "Exepected label: 6, get: 5\n",
      "Exepected label: 8, get: 5\n",
      "Exepected label: 0, get: 5\n",
      "Exepected label: 6, get: 5\n",
      "Exepected label: 2, get: 5\n",
      "Exepected label: 4, get: 5\n",
      "Exepected label: 9, get: 5\n",
      "Exepected label: 4, get: 5\n",
      "Exepected label: 9, get: 5\n",
      "Exepected label: 4, get: 5\n",
      "Exepected label: 5, get: 5\n",
      "Exepected label: 1, get: 5\n",
      "Exepected label: 5, get: 5\n",
      "Exepected label: 8, get: 5\n",
      "Exepected label: 4, get: 5\n",
      "Exepected label: 7, get: 5\n",
      "Exepected label: 9, get: 5\n",
      "Exepected label: 5, get: 5\n",
      "Exepected label: 9, get: 5\n",
      "Exepected label: 5, get: 5\n",
      "Exepected label: 9, get: 5\n",
      "Exepected label: 1, get: 5\n",
      "Exepected label: 5, get: 5\n",
      "Exepected label: 8, get: 5\n",
      "Exepected label: 3, get: 5\n",
      "Exepected label: 9, get: 5\n",
      "Exepected label: 9, get: 5\n",
      "Exepected label: 1, get: 5\n",
      "Exepected label: 8, get: 5\n",
      "Exepected label: 3, get: 5\n",
      "Exepected label: 8, get: 5\n",
      "Exepected label: 6, get: 5\n",
      "Exepected label: 5, get: 5\n",
      "Exepected label: 2, get: 5\n",
      "Error rate: 0.92\n"
     ]
    }
   ],
   "source": [
    "#The data distribution seems to follow a uniform law\n",
    "data_test = np.array(test['x'])\n",
    "data_train = np.array(train['x'])\n",
    "\n",
    "def kNN_3(X_train, labels,x,k):\n",
    "    dist = sort_distance(x,X_train)[:k]\n",
    "    ret = [0 for i in range(10)]\n",
    "\n",
    "    for i in range(k):\n",
    "        ri = dist[i][0]\n",
    "        y_i = labels[ri]\n",
    "        ret[y_i] += 1\n",
    "\n",
    "  \n",
    "    label = np.argmax(ret)\n",
    "\n",
    "    return label\n",
    "# K = 1 \n",
    "error = 0 \n",
    "for i in range(len(data_test)):\n",
    "    exp_label = labels_test[i]\n",
    "    label = kNN_3(data_train, labels_train,data_test[i],1)\n",
    "    print(\"Exepected label: \"+str(exp_label)+ \", get: \"+str(label))\n",
    "    if exp_label != label:\n",
    "        error+=1\n",
    "        \n",
    "print(\"Error rate: \" +str(error/len(data_test)))\n",
    "    \n",
    "    "
   ]
  },
  {
   "cell_type": "code",
   "execution_count": 26,
   "metadata": {},
   "outputs": [
    {
     "name": "stdout",
     "output_type": "stream",
     "text": [
      "Exepected label: 0, get: 0\n",
      "Exepected label: 7, get: 0\n",
      "Exepected label: 1, get: 0\n",
      "Exepected label: 1, get: 0\n",
      "Exepected label: 4, get: 0\n",
      "Exepected label: 9, get: 0\n",
      "Exepected label: 4, get: 0\n",
      "Exepected label: 3, get: 0\n",
      "Exepected label: 4, get: 0\n",
      "Exepected label: 8, get: 0\n",
      "Exepected label: 2, get: 0\n",
      "Exepected label: 2, get: 0\n",
      "Exepected label: 1, get: 0\n",
      "Exepected label: 8, get: 0\n",
      "Exepected label: 7, get: 0\n",
      "Exepected label: 0, get: 0\n",
      "Exepected label: 8, get: 0\n",
      "Exepected label: 1, get: 0\n",
      "Exepected label: 0, get: 0\n",
      "Exepected label: 7, get: 0\n",
      "Exepected label: 6, get: 0\n",
      "Exepected label: 3, get: 0\n",
      "Exepected label: 7, get: 0\n",
      "Exepected label: 7, get: 0\n",
      "Exepected label: 5, get: 0\n",
      "Exepected label: 8, get: 0\n",
      "Exepected label: 8, get: 0\n",
      "Exepected label: 9, get: 0\n",
      "Exepected label: 0, get: 0\n",
      "Exepected label: 0, get: 0\n",
      "Exepected label: 4, get: 0\n",
      "Exepected label: 1, get: 0\n",
      "Exepected label: 5, get: 0\n",
      "Exepected label: 2, get: 0\n",
      "Exepected label: 2, get: 0\n",
      "Exepected label: 3, get: 0\n",
      "Exepected label: 9, get: 0\n",
      "Exepected label: 4, get: 0\n",
      "Exepected label: 9, get: 0\n",
      "Exepected label: 5, get: 0\n",
      "Exepected label: 0, get: 0\n",
      "Exepected label: 6, get: 0\n",
      "Exepected label: 7, get: 0\n",
      "Exepected label: 7, get: 0\n",
      "Exepected label: 1, get: 0\n",
      "Exepected label: 8, get: 0\n",
      "Exepected label: 0, get: 0\n",
      "Exepected label: 2, get: 0\n",
      "Exepected label: 2, get: 0\n",
      "Exepected label: 0, get: 0\n",
      "Exepected label: 4, get: 0\n",
      "Exepected label: 1, get: 0\n",
      "Exepected label: 1, get: 0\n",
      "Exepected label: 2, get: 0\n",
      "Exepected label: 7, get: 0\n",
      "Exepected label: 3, get: 0\n",
      "Exepected label: 9, get: 0\n",
      "Exepected label: 7, get: 0\n",
      "Exepected label: 2, get: 0\n",
      "Exepected label: 8, get: 0\n",
      "Exepected label: 1, get: 0\n",
      "Exepected label: 9, get: 0\n",
      "Exepected label: 5, get: 0\n",
      "Exepected label: 8, get: 0\n",
      "Exepected label: 8, get: 0\n",
      "Exepected label: 1, get: 0\n",
      "Exepected label: 9, get: 0\n",
      "Exepected label: 8, get: 0\n",
      "Exepected label: 3, get: 0\n",
      "Exepected label: 1, get: 0\n",
      "Exepected label: 6, get: 0\n",
      "Exepected label: 5, get: 0\n",
      "Exepected label: 7, get: 0\n",
      "Exepected label: 4, get: 0\n",
      "Exepected label: 2, get: 0\n",
      "Exepected label: 7, get: 0\n",
      "Exepected label: 0, get: 0\n",
      "Exepected label: 3, get: 0\n",
      "Exepected label: 0, get: 0\n",
      "Exepected label: 4, get: 0\n",
      "Exepected label: 1, get: 0\n",
      "Exepected label: 1, get: 0\n",
      "Exepected label: 7, get: 0\n",
      "Exepected label: 9, get: 0\n",
      "Exepected label: 1, get: 0\n",
      "Exepected label: 1, get: 0\n",
      "Exepected label: 8, get: 0\n",
      "Exepected label: 5, get: 0\n",
      "Exepected label: 7, get: 0\n",
      "Exepected label: 5, get: 0\n",
      "Exepected label: 0, get: 0\n",
      "Exepected label: 6, get: 0\n",
      "Exepected label: 6, get: 0\n",
      "Exepected label: 0, get: 0\n",
      "Exepected label: 4, get: 0\n",
      "Exepected label: 1, get: 0\n",
      "Exepected label: 2, get: 0\n",
      "Exepected label: 3, get: 0\n",
      "Exepected label: 4, get: 0\n",
      "Exepected label: 4, get: 0\n",
      "Exepected label: 6, get: 0\n",
      "Exepected label: 8, get: 0\n",
      "Exepected label: 0, get: 0\n",
      "Exepected label: 9, get: 0\n",
      "Exepected label: 5, get: 0\n",
      "Exepected label: 8, get: 0\n",
      "Exepected label: 7, get: 0\n",
      "Exepected label: 0, get: 0\n",
      "Exepected label: 3, get: 0\n",
      "Exepected label: 5, get: 0\n",
      "Exepected label: 4, get: 0\n",
      "Exepected label: 5, get: 0\n",
      "Exepected label: 9, get: 0\n",
      "Exepected label: 6, get: 0\n",
      "Exepected label: 7, get: 0\n",
      "Exepected label: 1, get: 0\n",
      "Exepected label: 9, get: 0\n",
      "Exepected label: 6, get: 0\n",
      "Exepected label: 1, get: 0\n",
      "Exepected label: 3, get: 0\n",
      "Exepected label: 8, get: 0\n",
      "Exepected label: 3, get: 0\n",
      "Exepected label: 9, get: 0\n",
      "Exepected label: 1, get: 0\n",
      "Exepected label: 2, get: 0\n",
      "Exepected label: 7, get: 0\n",
      "Exepected label: 7, get: 0\n",
      "Exepected label: 7, get: 0\n",
      "Exepected label: 0, get: 0\n",
      "Exepected label: 2, get: 0\n",
      "Exepected label: 3, get: 0\n",
      "Exepected label: 1, get: 0\n",
      "Exepected label: 1, get: 0\n",
      "Exepected label: 4, get: 0\n",
      "Exepected label: 2, get: 0\n",
      "Exepected label: 5, get: 0\n",
      "Exepected label: 6, get: 0\n",
      "Exepected label: 0, get: 0\n",
      "Exepected label: 9, get: 0\n",
      "Exepected label: 6, get: 0\n",
      "Exepected label: 2, get: 0\n",
      "Exepected label: 8, get: 0\n",
      "Exepected label: 9, get: 0\n",
      "Exepected label: 2, get: 0\n",
      "Exepected label: 3, get: 0\n",
      "Exepected label: 3, get: 0\n",
      "Exepected label: 6, get: 0\n",
      "Exepected label: 9, get: 0\n",
      "Exepected label: 1, get: 0\n",
      "Exepected label: 4, get: 0\n",
      "Exepected label: 3, get: 0\n",
      "Exepected label: 3, get: 0\n",
      "Exepected label: 0, get: 0\n",
      "Exepected label: 7, get: 0\n",
      "Exepected label: 7, get: 0\n",
      "Exepected label: 1, get: 0\n",
      "Exepected label: 7, get: 0\n",
      "Exepected label: 7, get: 0\n",
      "Exepected label: 3, get: 0\n",
      "Exepected label: 6, get: 0\n",
      "Exepected label: 4, get: 0\n",
      "Exepected label: 9, get: 0\n",
      "Exepected label: 5, get: 0\n",
      "Exepected label: 4, get: 0\n",
      "Exepected label: 4, get: 0\n",
      "Exepected label: 2, get: 0\n",
      "Exepected label: 7, get: 0\n",
      "Exepected label: 9, get: 0\n",
      "Exepected label: 0, get: 0\n",
      "Exepected label: 9, get: 0\n",
      "Exepected label: 8, get: 0\n",
      "Exepected label: 4, get: 0\n",
      "Exepected label: 4, get: 0\n",
      "Exepected label: 9, get: 0\n",
      "Exepected label: 1, get: 0\n",
      "Exepected label: 2, get: 0\n",
      "Exepected label: 4, get: 0\n",
      "Exepected label: 9, get: 0\n",
      "Exepected label: 3, get: 0\n",
      "Exepected label: 0, get: 0\n",
      "Exepected label: 4, get: 0\n",
      "Exepected label: 1, get: 0\n",
      "Exepected label: 6, get: 0\n",
      "Exepected label: 2, get: 0\n",
      "Exepected label: 6, get: 0\n",
      "Exepected label: 3, get: 0\n",
      "Exepected label: 7, get: 0\n",
      "Exepected label: 4, get: 0\n",
      "Exepected label: 2, get: 0\n",
      "Exepected label: 6, get: 0\n",
      "Exepected label: 6, get: 0\n",
      "Exepected label: 7, get: 0\n",
      "Exepected label: 1, get: 0\n",
      "Exepected label: 8, get: 0\n",
      "Exepected label: 9, get: 0\n",
      "Exepected label: 0, get: 0\n",
      "Exepected label: 4, get: 0\n",
      "Exepected label: 1, get: 0\n",
      "Exepected label: 4, get: 0\n",
      "Exepected label: 2, get: 0\n",
      "Exepected label: 1, get: 0\n",
      "Exepected label: 3, get: 0\n",
      "Exepected label: 6, get: 0\n",
      "Exepected label: 4, get: 0\n",
      "Exepected label: 6, get: 0\n",
      "Exepected label: 7, get: 0\n",
      "Exepected label: 5, get: 0\n",
      "Exepected label: 8, get: 0\n",
      "Exepected label: 7, get: 0\n",
      "Exepected label: 0, get: 0\n",
      "Exepected label: 5, get: 0\n",
      "Exepected label: 1, get: 0\n",
      "Exepected label: 4, get: 0\n",
      "Exepected label: 2, get: 0\n",
      "Exepected label: 8, get: 0\n",
      "Exepected label: 4, get: 0\n",
      "Exepected label: 7, get: 0\n",
      "Exepected label: 7, get: 0\n",
      "Exepected label: 3, get: 0\n",
      "Exepected label: 8, get: 0\n",
      "Exepected label: 4, get: 0\n",
      "Exepected label: 9, get: 0\n",
      "Exepected label: 5, get: 0\n",
      "Exepected label: 8, get: 0\n",
      "Exepected label: 6, get: 0\n",
      "Exepected label: 7, get: 0\n",
      "Exepected label: 3, get: 0\n",
      "Exepected label: 4, get: 0\n",
      "Exepected label: 6, get: 0\n",
      "Exepected label: 7, get: 0\n",
      "Exepected label: 1, get: 0\n",
      "Exepected label: 7, get: 0\n",
      "Exepected label: 4, get: 0\n",
      "Exepected label: 3, get: 0\n",
      "Exepected label: 3, get: 0\n",
      "Exepected label: 9, get: 0\n",
      "Exepected label: 8, get: 0\n",
      "Exepected label: 8, get: 0\n",
      "Exepected label: 1, get: 0\n",
      "Exepected label: 8, get: 0\n",
      "Exepected label: 6, get: 0\n",
      "Exepected label: 3, get: 0\n",
      "Exepected label: 1, get: 0\n",
      "Exepected label: 1, get: 0\n",
      "Exepected label: 3, get: 0\n",
      "Exepected label: 5, get: 0\n",
      "Exepected label: 2, get: 0\n",
      "Exepected label: 8, get: 0\n",
      "Exepected label: 4, get: 0\n",
      "Exepected label: 2, get: 0\n",
      "Exepected label: 9, get: 0\n",
      "Exepected label: 7, get: 0\n",
      "Exepected label: 1, get: 0\n",
      "Exepected label: 4, get: 0\n",
      "Exepected label: 8, get: 0\n",
      "Exepected label: 2, get: 0\n",
      "Exepected label: 9, get: 0\n",
      "Exepected label: 6, get: 0\n",
      "Exepected label: 4, get: 0\n",
      "Exepected label: 1, get: 0\n",
      "Exepected label: 3, get: 0\n",
      "Exepected label: 4, get: 0\n",
      "Exepected label: 2, get: 0\n",
      "Exepected label: 5, get: 0\n",
      "Exepected label: 2, get: 0\n",
      "Exepected label: 5, get: 0\n",
      "Exepected label: 6, get: 0\n",
      "Exepected label: 8, get: 0\n",
      "Exepected label: 0, get: 0\n",
      "Exepected label: 6, get: 0\n",
      "Exepected label: 2, get: 0\n",
      "Exepected label: 4, get: 0\n",
      "Exepected label: 9, get: 0\n",
      "Exepected label: 4, get: 0\n",
      "Exepected label: 9, get: 0\n",
      "Exepected label: 4, get: 0\n",
      "Exepected label: 5, get: 0\n",
      "Exepected label: 1, get: 0\n",
      "Exepected label: 5, get: 0\n",
      "Exepected label: 8, get: 0\n",
      "Exepected label: 4, get: 0\n",
      "Exepected label: 7, get: 0\n",
      "Exepected label: 9, get: 0\n",
      "Exepected label: 5, get: 0\n",
      "Exepected label: 9, get: 0\n",
      "Exepected label: 5, get: 0\n",
      "Exepected label: 9, get: 0\n",
      "Exepected label: 1, get: 0\n",
      "Exepected label: 5, get: 0\n",
      "Exepected label: 8, get: 0\n",
      "Exepected label: 3, get: 0\n",
      "Exepected label: 9, get: 0\n",
      "Exepected label: 9, get: 0\n",
      "Exepected label: 1, get: 0\n",
      "Exepected label: 8, get: 0\n",
      "Exepected label: 3, get: 0\n",
      "Exepected label: 8, get: 0\n",
      "Exepected label: 6, get: 0\n",
      "Exepected label: 5, get: 0\n",
      "Exepected label: 2, get: 0\n",
      "Error rate: 0.9266666666666666\n"
     ]
    }
   ],
   "source": [
    "# K = 3\n",
    "error = 0 \n",
    "for i in range(len(data_test)):\n",
    "    exp_label = labels_test[i]\n",
    "    label = kNN_3(data_train, labels_train,data_test[i],3)\n",
    "    print(\"Exepected label: \"+str(exp_label)+ \", get: \"+str(label))\n",
    "    if exp_label != label:\n",
    "        error+=1\n",
    "        \n",
    "print(\"Error rate: \" +str(error/len(data_test)))"
   ]
  },
  {
   "cell_type": "code",
   "execution_count": 27,
   "metadata": {},
   "outputs": [
    {
     "name": "stdout",
     "output_type": "stream",
     "text": [
      "Exepected label: 0, get: 0\n",
      "Exepected label: 7, get: 0\n",
      "Exepected label: 1, get: 0\n",
      "Exepected label: 1, get: 0\n",
      "Exepected label: 4, get: 0\n",
      "Exepected label: 9, get: 0\n",
      "Exepected label: 4, get: 0\n",
      "Exepected label: 3, get: 0\n",
      "Exepected label: 4, get: 0\n",
      "Exepected label: 8, get: 0\n",
      "Exepected label: 2, get: 0\n",
      "Exepected label: 2, get: 0\n",
      "Exepected label: 1, get: 0\n",
      "Exepected label: 8, get: 0\n",
      "Exepected label: 7, get: 0\n",
      "Exepected label: 0, get: 0\n",
      "Exepected label: 8, get: 0\n",
      "Exepected label: 1, get: 0\n",
      "Exepected label: 0, get: 0\n",
      "Exepected label: 7, get: 0\n",
      "Exepected label: 6, get: 0\n",
      "Exepected label: 3, get: 0\n",
      "Exepected label: 7, get: 0\n",
      "Exepected label: 7, get: 0\n",
      "Exepected label: 5, get: 0\n",
      "Exepected label: 8, get: 0\n",
      "Exepected label: 8, get: 0\n",
      "Exepected label: 9, get: 0\n",
      "Exepected label: 0, get: 0\n",
      "Exepected label: 0, get: 0\n",
      "Exepected label: 4, get: 0\n",
      "Exepected label: 1, get: 0\n",
      "Exepected label: 5, get: 0\n",
      "Exepected label: 2, get: 0\n",
      "Exepected label: 2, get: 0\n",
      "Exepected label: 3, get: 0\n",
      "Exepected label: 9, get: 0\n",
      "Exepected label: 4, get: 0\n",
      "Exepected label: 9, get: 0\n",
      "Exepected label: 5, get: 0\n",
      "Exepected label: 0, get: 0\n",
      "Exepected label: 6, get: 0\n",
      "Exepected label: 7, get: 0\n",
      "Exepected label: 7, get: 0\n",
      "Exepected label: 1, get: 0\n",
      "Exepected label: 8, get: 0\n",
      "Exepected label: 0, get: 0\n",
      "Exepected label: 2, get: 0\n",
      "Exepected label: 2, get: 0\n",
      "Exepected label: 0, get: 0\n",
      "Exepected label: 4, get: 0\n",
      "Exepected label: 1, get: 0\n",
      "Exepected label: 1, get: 0\n",
      "Exepected label: 2, get: 0\n",
      "Exepected label: 7, get: 0\n",
      "Exepected label: 3, get: 0\n",
      "Exepected label: 9, get: 0\n",
      "Exepected label: 7, get: 0\n",
      "Exepected label: 2, get: 0\n",
      "Exepected label: 8, get: 0\n",
      "Exepected label: 1, get: 0\n",
      "Exepected label: 9, get: 0\n",
      "Exepected label: 5, get: 0\n",
      "Exepected label: 8, get: 0\n",
      "Exepected label: 8, get: 0\n",
      "Exepected label: 1, get: 0\n",
      "Exepected label: 9, get: 0\n",
      "Exepected label: 8, get: 0\n",
      "Exepected label: 3, get: 0\n",
      "Exepected label: 1, get: 0\n",
      "Exepected label: 6, get: 0\n",
      "Exepected label: 5, get: 0\n",
      "Exepected label: 7, get: 0\n",
      "Exepected label: 4, get: 0\n",
      "Exepected label: 2, get: 0\n",
      "Exepected label: 7, get: 0\n",
      "Exepected label: 0, get: 0\n",
      "Exepected label: 3, get: 0\n",
      "Exepected label: 0, get: 0\n",
      "Exepected label: 4, get: 0\n",
      "Exepected label: 1, get: 0\n",
      "Exepected label: 1, get: 0\n",
      "Exepected label: 7, get: 0\n",
      "Exepected label: 9, get: 0\n",
      "Exepected label: 1, get: 0\n",
      "Exepected label: 1, get: 0\n",
      "Exepected label: 8, get: 0\n",
      "Exepected label: 5, get: 0\n",
      "Exepected label: 7, get: 0\n",
      "Exepected label: 5, get: 0\n",
      "Exepected label: 0, get: 0\n",
      "Exepected label: 6, get: 0\n",
      "Exepected label: 6, get: 0\n",
      "Exepected label: 0, get: 0\n",
      "Exepected label: 4, get: 0\n",
      "Exepected label: 1, get: 0\n",
      "Exepected label: 2, get: 0\n",
      "Exepected label: 3, get: 0\n",
      "Exepected label: 4, get: 0\n",
      "Exepected label: 4, get: 0\n",
      "Exepected label: 6, get: 0\n",
      "Exepected label: 8, get: 0\n",
      "Exepected label: 0, get: 0\n",
      "Exepected label: 9, get: 0\n",
      "Exepected label: 5, get: 0\n",
      "Exepected label: 8, get: 0\n",
      "Exepected label: 7, get: 0\n",
      "Exepected label: 0, get: 0\n",
      "Exepected label: 3, get: 0\n",
      "Exepected label: 5, get: 0\n",
      "Exepected label: 4, get: 0\n",
      "Exepected label: 5, get: 0\n",
      "Exepected label: 9, get: 0\n",
      "Exepected label: 6, get: 0\n",
      "Exepected label: 7, get: 0\n",
      "Exepected label: 1, get: 0\n",
      "Exepected label: 9, get: 0\n",
      "Exepected label: 6, get: 0\n",
      "Exepected label: 1, get: 0\n",
      "Exepected label: 3, get: 0\n",
      "Exepected label: 8, get: 0\n",
      "Exepected label: 3, get: 0\n",
      "Exepected label: 9, get: 0\n",
      "Exepected label: 1, get: 0\n",
      "Exepected label: 2, get: 0\n",
      "Exepected label: 7, get: 0\n",
      "Exepected label: 7, get: 0\n",
      "Exepected label: 7, get: 0\n",
      "Exepected label: 0, get: 0\n",
      "Exepected label: 2, get: 0\n",
      "Exepected label: 3, get: 0\n",
      "Exepected label: 1, get: 0\n",
      "Exepected label: 1, get: 0\n",
      "Exepected label: 4, get: 0\n",
      "Exepected label: 2, get: 0\n",
      "Exepected label: 5, get: 0\n",
      "Exepected label: 6, get: 0\n",
      "Exepected label: 0, get: 0\n",
      "Exepected label: 9, get: 0\n",
      "Exepected label: 6, get: 0\n",
      "Exepected label: 2, get: 0\n",
      "Exepected label: 8, get: 0\n",
      "Exepected label: 9, get: 0\n",
      "Exepected label: 2, get: 0\n",
      "Exepected label: 3, get: 0\n",
      "Exepected label: 3, get: 0\n",
      "Exepected label: 6, get: 0\n",
      "Exepected label: 9, get: 0\n",
      "Exepected label: 1, get: 0\n",
      "Exepected label: 4, get: 0\n",
      "Exepected label: 3, get: 0\n",
      "Exepected label: 3, get: 0\n",
      "Exepected label: 0, get: 0\n",
      "Exepected label: 7, get: 0\n",
      "Exepected label: 7, get: 0\n",
      "Exepected label: 1, get: 0\n",
      "Exepected label: 7, get: 0\n",
      "Exepected label: 7, get: 0\n",
      "Exepected label: 3, get: 0\n",
      "Exepected label: 6, get: 0\n",
      "Exepected label: 4, get: 0\n",
      "Exepected label: 9, get: 0\n",
      "Exepected label: 5, get: 0\n",
      "Exepected label: 4, get: 0\n",
      "Exepected label: 4, get: 0\n",
      "Exepected label: 2, get: 0\n",
      "Exepected label: 7, get: 0\n",
      "Exepected label: 9, get: 0\n",
      "Exepected label: 0, get: 0\n",
      "Exepected label: 9, get: 0\n",
      "Exepected label: 8, get: 0\n",
      "Exepected label: 4, get: 0\n",
      "Exepected label: 4, get: 0\n",
      "Exepected label: 9, get: 0\n",
      "Exepected label: 1, get: 0\n",
      "Exepected label: 2, get: 0\n",
      "Exepected label: 4, get: 0\n",
      "Exepected label: 9, get: 0\n",
      "Exepected label: 3, get: 0\n",
      "Exepected label: 0, get: 0\n",
      "Exepected label: 4, get: 0\n",
      "Exepected label: 1, get: 0\n",
      "Exepected label: 6, get: 0\n",
      "Exepected label: 2, get: 0\n",
      "Exepected label: 6, get: 0\n",
      "Exepected label: 3, get: 0\n",
      "Exepected label: 7, get: 0\n",
      "Exepected label: 4, get: 0\n",
      "Exepected label: 2, get: 0\n",
      "Exepected label: 6, get: 0\n",
      "Exepected label: 6, get: 0\n",
      "Exepected label: 7, get: 0\n",
      "Exepected label: 1, get: 0\n",
      "Exepected label: 8, get: 0\n",
      "Exepected label: 9, get: 0\n",
      "Exepected label: 0, get: 0\n",
      "Exepected label: 4, get: 0\n",
      "Exepected label: 1, get: 0\n",
      "Exepected label: 4, get: 0\n",
      "Exepected label: 2, get: 0\n",
      "Exepected label: 1, get: 0\n",
      "Exepected label: 3, get: 0\n",
      "Exepected label: 6, get: 0\n",
      "Exepected label: 4, get: 0\n",
      "Exepected label: 6, get: 0\n",
      "Exepected label: 7, get: 0\n",
      "Exepected label: 5, get: 0\n",
      "Exepected label: 8, get: 0\n",
      "Exepected label: 7, get: 0\n",
      "Exepected label: 0, get: 0\n",
      "Exepected label: 5, get: 0\n",
      "Exepected label: 1, get: 0\n",
      "Exepected label: 4, get: 0\n",
      "Exepected label: 2, get: 0\n",
      "Exepected label: 8, get: 0\n",
      "Exepected label: 4, get: 0\n",
      "Exepected label: 7, get: 0\n",
      "Exepected label: 7, get: 0\n",
      "Exepected label: 3, get: 0\n",
      "Exepected label: 8, get: 0\n",
      "Exepected label: 4, get: 0\n",
      "Exepected label: 9, get: 0\n",
      "Exepected label: 5, get: 0\n",
      "Exepected label: 8, get: 0\n",
      "Exepected label: 6, get: 0\n",
      "Exepected label: 7, get: 0\n",
      "Exepected label: 3, get: 0\n",
      "Exepected label: 4, get: 0\n",
      "Exepected label: 6, get: 0\n",
      "Exepected label: 7, get: 0\n",
      "Exepected label: 1, get: 0\n",
      "Exepected label: 7, get: 0\n",
      "Exepected label: 4, get: 0\n",
      "Exepected label: 3, get: 0\n",
      "Exepected label: 3, get: 0\n",
      "Exepected label: 9, get: 0\n",
      "Exepected label: 8, get: 0\n",
      "Exepected label: 8, get: 0\n",
      "Exepected label: 1, get: 0\n",
      "Exepected label: 8, get: 0\n",
      "Exepected label: 6, get: 0\n",
      "Exepected label: 3, get: 0\n",
      "Exepected label: 1, get: 0\n",
      "Exepected label: 1, get: 0\n",
      "Exepected label: 3, get: 0\n",
      "Exepected label: 5, get: 0\n",
      "Exepected label: 2, get: 0\n",
      "Exepected label: 8, get: 0\n",
      "Exepected label: 4, get: 0\n",
      "Exepected label: 2, get: 0\n",
      "Exepected label: 9, get: 0\n",
      "Exepected label: 7, get: 0\n",
      "Exepected label: 1, get: 0\n",
      "Exepected label: 4, get: 0\n",
      "Exepected label: 8, get: 0\n",
      "Exepected label: 2, get: 0\n",
      "Exepected label: 9, get: 0\n",
      "Exepected label: 6, get: 0\n",
      "Exepected label: 4, get: 0\n",
      "Exepected label: 1, get: 0\n",
      "Exepected label: 3, get: 0\n",
      "Exepected label: 4, get: 0\n",
      "Exepected label: 2, get: 0\n",
      "Exepected label: 5, get: 0\n",
      "Exepected label: 2, get: 0\n",
      "Exepected label: 5, get: 0\n",
      "Exepected label: 6, get: 0\n",
      "Exepected label: 8, get: 0\n",
      "Exepected label: 0, get: 0\n",
      "Exepected label: 6, get: 0\n",
      "Exepected label: 2, get: 0\n",
      "Exepected label: 4, get: 0\n",
      "Exepected label: 9, get: 0\n",
      "Exepected label: 4, get: 0\n",
      "Exepected label: 9, get: 0\n",
      "Exepected label: 4, get: 0\n",
      "Exepected label: 5, get: 0\n",
      "Exepected label: 1, get: 0\n",
      "Exepected label: 5, get: 0\n",
      "Exepected label: 8, get: 0\n",
      "Exepected label: 4, get: 0\n",
      "Exepected label: 7, get: 0\n",
      "Exepected label: 9, get: 0\n",
      "Exepected label: 5, get: 0\n",
      "Exepected label: 9, get: 0\n",
      "Exepected label: 5, get: 0\n",
      "Exepected label: 9, get: 0\n",
      "Exepected label: 1, get: 0\n",
      "Exepected label: 5, get: 0\n",
      "Exepected label: 8, get: 0\n",
      "Exepected label: 3, get: 0\n",
      "Exepected label: 9, get: 0\n",
      "Exepected label: 9, get: 0\n",
      "Exepected label: 1, get: 0\n",
      "Exepected label: 8, get: 0\n",
      "Exepected label: 3, get: 0\n",
      "Exepected label: 8, get: 0\n",
      "Exepected label: 6, get: 0\n",
      "Exepected label: 5, get: 0\n",
      "Exepected label: 2, get: 0\n",
      "Error rate: 0.9266666666666666\n"
     ]
    }
   ],
   "source": [
    "# K = 5 \n",
    "error = 0 \n",
    "for i in range(len(data_test)):\n",
    "    exp_label = labels_test[i]\n",
    "    label = kNN_3(data_train, labels_train,data_test[i],5)\n",
    "    print(\"Exepected label: \"+str(exp_label)+ \", get: \"+str(label))\n",
    "    if exp_label != label:\n",
    "        error+=1\n",
    "        \n",
    "print(\"Error rate: \" +str(error/len(data_test)))"
   ]
  },
  {
   "cell_type": "code",
   "execution_count": 28,
   "metadata": {},
   "outputs": [
    {
     "name": "stdout",
     "output_type": "stream",
     "text": [
      "[[22.  0.  0.  0.  0.  0.  0.  0.  0.  0.]\n",
      " [38.  0.  0.  0.  0.  0.  0.  0.  0.  0.]\n",
      " [28.  0.  0.  0.  0.  0.  0.  0.  0.  0.]\n",
      " [28.  0.  0.  0.  0.  0.  0.  0.  0.  0.]\n",
      " [38.  0.  0.  0.  0.  0.  0.  0.  0.  0.]\n",
      " [24.  0.  0.  0.  0.  0.  0.  0.  0.  0.]\n",
      " [25.  0.  0.  0.  0.  0.  0.  0.  0.  0.]\n",
      " [34.  0.  0.  0.  0.  0.  0.  0.  0.  0.]\n",
      " [31.  0.  0.  0.  0.  0.  0.  0.  0.  0.]\n",
      " [32.  0.  0.  0.  0.  0.  0.  0.  0.  0.]]\n"
     ]
    }
   ],
   "source": [
    "# Confusion matrix\n",
    "\n",
    "def confusion_matrix():\n",
    "    '''We use directly our data set, and K=5 \n",
    "    '''\n",
    "    matrix = np.zeros((10,10))\n",
    "    for i in range(len(data_test)):\n",
    "        exp_label = labels_test[i]\n",
    "        label = kNN_3(data_train, labels_train,data_test[i],5)\n",
    "        matrix[exp_label][label] += 1 \n",
    "    return matrix\n",
    "        \n",
    "print(confusion_matrix())"
   ]
  }
 ],
 "metadata": {
  "colab": {
   "collapsed_sections": [],
   "name": "TP_kNN_Thauvin_Vranckx.ipynb",
   "provenance": []
  },
  "kernelspec": {
   "display_name": "Python 3",
   "language": "python",
   "name": "python3"
  },
  "language_info": {
   "codemirror_mode": {
    "name": "ipython",
    "version": 3
   },
   "file_extension": ".py",
   "mimetype": "text/x-python",
   "name": "python",
   "nbconvert_exporter": "python",
   "pygments_lexer": "ipython3",
   "version": "3.6.9"
  }
 },
 "nbformat": 4,
 "nbformat_minor": 1
}
